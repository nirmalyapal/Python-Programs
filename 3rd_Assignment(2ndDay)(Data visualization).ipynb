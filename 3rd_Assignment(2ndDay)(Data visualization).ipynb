{
  "nbformat": 4,
  "nbformat_minor": 0,
  "metadata": {
    "colab": {
      "name": "3rd Assignment(2ndDay).ipynb",
      "provenance": [],
      "collapsed_sections": []
    },
    "kernelspec": {
      "name": "python3",
      "display_name": "Python 3"
    },
    "language_info": {
      "name": "python"
    }
  },
  "cells": [
    {
      "cell_type": "code",
      "metadata": {
        "id": "ZmCKqP_EFhxn"
      },
      "source": [
        "#Assignment3- create a dataframe with 10 rows on random numbers & 4 columns(labelled as a,b,c,d) & plot a bar chart."
      ],
      "execution_count": null,
      "outputs": []
    },
    {
      "cell_type": "code",
      "metadata": {
        "id": "sYvmz7iZ8ZU4"
      },
      "source": [
        "import numpy as np"
      ],
      "execution_count": 1,
      "outputs": []
    },
    {
      "cell_type": "code",
      "metadata": {
        "id": "ql5ZQOPm8k52"
      },
      "source": [
        "import pandas as pd"
      ],
      "execution_count": 2,
      "outputs": []
    },
    {
      "cell_type": "code",
      "metadata": {
        "id": "317C_Rdt8ptF"
      },
      "source": [
        "import seaborn as sns"
      ],
      "execution_count": 3,
      "outputs": []
    },
    {
      "cell_type": "code",
      "metadata": {
        "id": "d2aKoZtJ8rkj"
      },
      "source": [
        "import matplotlib as mpl"
      ],
      "execution_count": 4,
      "outputs": []
    },
    {
      "cell_type": "code",
      "metadata": {
        "id": "bVEIppLx8tsb"
      },
      "source": [
        "import matplotlib.pyplot as plt"
      ],
      "execution_count": 5,
      "outputs": []
    },
    {
      "cell_type": "code",
      "metadata": {
        "id": "limr8Bkz8vkD"
      },
      "source": [
        "%matplotlib inline"
      ],
      "execution_count": 6,
      "outputs": []
    },
    {
      "cell_type": "code",
      "metadata": {
        "id": "WZE3oPbT8xkk"
      },
      "source": [
        "from numpy.random import randn,randint,uniform,sample"
      ],
      "execution_count": 7,
      "outputs": []
    },
    {
      "cell_type": "code",
      "metadata": {
        "id": "3IBsZKiw86Mi"
      },
      "source": [
        "df = pd.DataFrame(randn(10,4), columns=['a','b','c','d'])"
      ],
      "execution_count": 11,
      "outputs": []
    },
    {
      "cell_type": "code",
      "metadata": {
        "colab": {
          "base_uri": "https://localhost:8080/",
          "height": 359
        },
        "id": "amC4UVKq9Nds",
        "outputId": "b21d34a4-a5ce-47e6-8905-754b5b6b3854"
      },
      "source": [
        "df"
      ],
      "execution_count": 12,
      "outputs": [
        {
          "output_type": "execute_result",
          "data": {
            "text/html": [
              "<div>\n",
              "<style scoped>\n",
              "    .dataframe tbody tr th:only-of-type {\n",
              "        vertical-align: middle;\n",
              "    }\n",
              "\n",
              "    .dataframe tbody tr th {\n",
              "        vertical-align: top;\n",
              "    }\n",
              "\n",
              "    .dataframe thead th {\n",
              "        text-align: right;\n",
              "    }\n",
              "</style>\n",
              "<table border=\"1\" class=\"dataframe\">\n",
              "  <thead>\n",
              "    <tr style=\"text-align: right;\">\n",
              "      <th></th>\n",
              "      <th>a</th>\n",
              "      <th>b</th>\n",
              "      <th>c</th>\n",
              "      <th>d</th>\n",
              "    </tr>\n",
              "  </thead>\n",
              "  <tbody>\n",
              "    <tr>\n",
              "      <th>0</th>\n",
              "      <td>0.983540</td>\n",
              "      <td>2.248717</td>\n",
              "      <td>1.297624</td>\n",
              "      <td>1.089443</td>\n",
              "    </tr>\n",
              "    <tr>\n",
              "      <th>1</th>\n",
              "      <td>-0.743386</td>\n",
              "      <td>-1.084020</td>\n",
              "      <td>1.390481</td>\n",
              "      <td>-0.637353</td>\n",
              "    </tr>\n",
              "    <tr>\n",
              "      <th>2</th>\n",
              "      <td>0.395748</td>\n",
              "      <td>0.242704</td>\n",
              "      <td>-1.387788</td>\n",
              "      <td>-0.904288</td>\n",
              "    </tr>\n",
              "    <tr>\n",
              "      <th>3</th>\n",
              "      <td>1.095652</td>\n",
              "      <td>-0.643244</td>\n",
              "      <td>-0.771833</td>\n",
              "      <td>-0.508924</td>\n",
              "    </tr>\n",
              "    <tr>\n",
              "      <th>4</th>\n",
              "      <td>-0.633072</td>\n",
              "      <td>-0.001839</td>\n",
              "      <td>0.590552</td>\n",
              "      <td>-0.412627</td>\n",
              "    </tr>\n",
              "    <tr>\n",
              "      <th>5</th>\n",
              "      <td>1.432787</td>\n",
              "      <td>0.944050</td>\n",
              "      <td>0.721716</td>\n",
              "      <td>0.238624</td>\n",
              "    </tr>\n",
              "    <tr>\n",
              "      <th>6</th>\n",
              "      <td>1.053872</td>\n",
              "      <td>-0.704554</td>\n",
              "      <td>-1.013533</td>\n",
              "      <td>-1.420751</td>\n",
              "    </tr>\n",
              "    <tr>\n",
              "      <th>7</th>\n",
              "      <td>-1.519118</td>\n",
              "      <td>-1.015965</td>\n",
              "      <td>0.662777</td>\n",
              "      <td>0.563664</td>\n",
              "    </tr>\n",
              "    <tr>\n",
              "      <th>8</th>\n",
              "      <td>-0.992527</td>\n",
              "      <td>1.221000</td>\n",
              "      <td>-0.135069</td>\n",
              "      <td>0.555697</td>\n",
              "    </tr>\n",
              "    <tr>\n",
              "      <th>9</th>\n",
              "      <td>-0.036416</td>\n",
              "      <td>1.485165</td>\n",
              "      <td>-2.429610</td>\n",
              "      <td>0.257031</td>\n",
              "    </tr>\n",
              "  </tbody>\n",
              "</table>\n",
              "</div>"
            ],
            "text/plain": [
              "          a         b         c         d\n",
              "0  0.983540  2.248717  1.297624  1.089443\n",
              "1 -0.743386 -1.084020  1.390481 -0.637353\n",
              "2  0.395748  0.242704 -1.387788 -0.904288\n",
              "3  1.095652 -0.643244 -0.771833 -0.508924\n",
              "4 -0.633072 -0.001839  0.590552 -0.412627\n",
              "5  1.432787  0.944050  0.721716  0.238624\n",
              "6  1.053872 -0.704554 -1.013533 -1.420751\n",
              "7 -1.519118 -1.015965  0.662777  0.563664\n",
              "8 -0.992527  1.221000 -0.135069  0.555697\n",
              "9 -0.036416  1.485165 -2.429610  0.257031"
            ]
          },
          "metadata": {
            "tags": []
          },
          "execution_count": 12
        }
      ]
    },
    {
      "cell_type": "code",
      "metadata": {
        "colab": {
          "base_uri": "https://localhost:8080/",
          "height": 512
        },
        "id": "VtgaJNRW-LSJ",
        "outputId": "712325e0-131b-42d7-b943-c17eaddee1b7"
      },
      "source": [
        "df.plot(kind='bar',width=(2),figsize=(10,8))\n",
        "plt.title('Bar Graph')\n"
      ],
      "execution_count": 28,
      "outputs": [
        {
          "output_type": "execute_result",
          "data": {
            "text/plain": [
              "Text(0.5, 1.0, 'Bar Graph')"
            ]
          },
          "metadata": {
            "tags": []
          },
          "execution_count": 28
        },
        {
          "output_type": "display_data",
          "data": {
            "image/png": "[encoded data removed]",
            "text/plain": [
              "<Figure size 720x576 with 1 Axes>"
            ]
          },
          "metadata": {
            "tags": [],
            "needs_background": "light"
          }
        }
      ]
    },
    {
      "cell_type": "code",
      "metadata": {
        "id": "7TXYaEfH_6qT"
      },
      "source": [
        ""
      ],
      "execution_count": null,
      "outputs": []
    }
  ]
}