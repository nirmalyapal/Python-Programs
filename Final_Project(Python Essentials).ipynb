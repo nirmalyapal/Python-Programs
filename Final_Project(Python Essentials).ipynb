{
  "nbformat": 4,
  "nbformat_minor": 0,
  "metadata": {
    "colab": {
      "name": "Final Project.ipynb",
      "provenance": [],
      "collapsed_sections": []
    },
    "kernelspec": {
      "name": "python3",
      "display_name": "Python 3"
    },
    "language_info": {
      "name": "python"
    }
  },
  "cells": [
    {
      "cell_type": "code",
      "metadata": {
        "colab": {
          "base_uri": "https://localhost:8080/"
        },
        "id": "e5q5JyxHtTfK",
        "outputId": "da89ff8a-a37d-400a-9e03-46d952f04355"
      },
      "source": [
        "# Weather API\n",
        "\n",
        "! pip install cli-weather"
      ],
      "execution_count": 1,
      "outputs": [
        {
          "output_type": "stream",
          "text": [
            "Collecting cli-weather\n",
            "  Downloading https://files.pythonhosted.org/packages/f6/41/33806d5870d2c699c5a43e53ce902bda470e9641d9eabc687ba00fb66d82/cli-weather-0.1.9.tar.gz\n",
            "Requirement already satisfied: requests in /usr/local/lib/python3.7/dist-packages (from cli-weather) (2.23.0)\n",
            "Requirement already satisfied: chardet<4,>=3.0.2 in /usr/local/lib/python3.7/dist-packages (from requests->cli-weather) (3.0.4)\n",
            "Requirement already satisfied: urllib3!=1.25.0,!=1.25.1,<1.26,>=1.21.1 in /usr/local/lib/python3.7/dist-packages (from requests->cli-weather) (1.24.3)\n",
            "Requirement already satisfied: idna<3,>=2.5 in /usr/local/lib/python3.7/dist-packages (from requests->cli-weather) (2.10)\n",
            "Requirement already satisfied: certifi>=2017.4.17 in /usr/local/lib/python3.7/dist-packages (from requests->cli-weather) (2021.5.30)\n",
            "Building wheels for collected packages: cli-weather\n",
            "  Building wheel for cli-weather (setup.py) ... \u001b[?25l\u001b[?25hdone\n",
            "  Created wheel for cli-weather: filename=cli_weather-0.1.9-cp37-none-any.whl size=13024 sha256=f5e37fdfd1118a2ae7db5af986ea68a5d67be2066a97051641b34102b2671120\n",
            "  Stored in directory: /root/.cache/pip/wheels/f8/77/51/09caaa3813fb0158a4ec6e15249b3c2e370678139aa703d2d6\n",
            "Successfully built cli-weather\n",
            "Installing collected packages: cli-weather\n",
            "Successfully installed cli-weather-0.1.9\n"
          ],
          "name": "stdout"
        }
      ]
    },
    {
      "cell_type": "code",
      "metadata": {
        "colab": {
          "base_uri": "https://localhost:8080/"
        },
        "id": "WEGjkU1ZtcDv",
        "outputId": "2a0e9f2c-188d-41be-e7a7-1f547573cfdf"
      },
      "source": [
        "! git clone \"https://github.com/vatsa287/cli-weather\""
      ],
      "execution_count": 2,
      "outputs": [
        {
          "output_type": "stream",
          "text": [
            "Cloning into 'cli-weather'...\n",
            "remote: Enumerating objects: 546, done.\u001b[K\n",
            "remote: Counting objects: 100% (123/123), done.\u001b[K\n",
            "remote: Compressing objects: 100% (90/90), done.\u001b[K\n",
            "remote: Total 546 (delta 71), reused 71 (delta 32), pack-reused 423\u001b[K\n",
            "Receiving objects: 100% (546/546), 269.71 KiB | 3.55 MiB/s, done.\n",
            "Resolving deltas: 100% (306/306), done.\n"
          ],
          "name": "stdout"
        }
      ]
    },
    {
      "cell_type": "code",
      "metadata": {
        "colab": {
          "base_uri": "https://localhost:8080/"
        },
        "id": "ovoWsoC7tjL2",
        "outputId": "9fd07241-f2d0-451d-ba8a-85b642799e28"
      },
      "source": [
        "cd cli-weather/cli_weather"
      ],
      "execution_count": 3,
      "outputs": [
        {
          "output_type": "stream",
          "text": [
            "/content/cli-weather/cli_weather\n"
          ],
          "name": "stdout"
        }
      ]
    },
    {
      "cell_type": "code",
      "metadata": {
        "colab": {
          "base_uri": "https://localhost:8080/"
        },
        "id": "7j-rHcMhtovj",
        "outputId": "6d522a19-43af-4678-c916-75daa11bd077"
      },
      "source": [
        "! python main.py -h"
      ],
      "execution_count": 4,
      "outputs": [
        {
          "output_type": "stream",
          "text": [
            "usage: cli-weather [--version] [-h] {city,postalcode} ...\n",
            "\n",
            "positional arguments:\n",
            "  {city,postalcode}\n",
            "\n",
            "optional arguments:\n",
            "  --version          show program's version number and exit\n",
            "  -h, --help         Lightweight command line app to get fast weather data, \n",
            "                     right on the command line.\n",
            "                     Author : Shree Vatsa N\n",
            "                     Email  : i.mnshreevatsa@gmail.com\n"
          ],
          "name": "stdout"
        }
      ]
    },
    {
      "cell_type": "code",
      "metadata": {
        "colab": {
          "base_uri": "https://localhost:8080/"
        },
        "id": "zvDoxFzVtsLu",
        "outputId": "a79d151e-221a-4dd6-b687-56b66ef776eb"
      },
      "source": [
        "! cli-weather city kolkata -d    # as a example checking kolkata weather"
      ],
      "execution_count": 5,
      "outputs": [
        {
          "output_type": "stream",
          "text": [
            "Displaying current weather data.Have a nice day!\n",
            "\n",
            "city                     : Kolkata\n",
            "temparature              : 27 celcius\n",
            "summary                  : Scattered clouds\n",
            "source station ID        : VECC\n",
            "latitude                 : 22.56263 degrees\n",
            "longitude                : 88.36304 degrees\n",
            "timezone                 : Asia/Kolkata\n",
            "last observation time    : 2021-07-07 15:30\n",
            "sunrise                  : 23:27\n",
            "sunset                   : 12:55\n",
            "pressure                 : 1001.5 mb\n",
            "sea level pressure       : 1002 mb\n",
            "wind speed               : 1 m/s\n",
            "wind direction           : 0 degrees\n",
            "visibility               : 5 KM\n",
            "relative humidity        : 94 %\n",
            "snowfall                 : 0 mm/hr\n",
            "estimated solar radiation: 0 W/m^2\n"
          ],
          "name": "stdout"
        }
      ]
    },
    {
      "cell_type": "code",
      "metadata": {
        "id": "NrfWZh1tt2N0"
      },
      "source": [
        ""
      ],
      "execution_count": null,
      "outputs": []
    }
  ]
}